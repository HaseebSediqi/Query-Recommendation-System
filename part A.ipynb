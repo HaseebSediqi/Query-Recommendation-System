{
 "cells": [
  {
   "cell_type": "code",
   "execution_count": 1,
   "metadata": {
    "ExecuteTime": {
     "end_time": "2023-06-14T12:40:45.171731900Z",
     "start_time": "2023-06-14T12:40:40.473138600Z"
    }
   },
   "outputs": [],
   "source": [
    "import random\n",
    "import csv\n",
    "import time\n",
    "import pandas as pd\n",
    "import numpy as np\n",
    "from sklearn.metrics.pairwise import cosine_similarity\n",
    "from sklearn.metrics import mean_squared_error\n",
    "from math import sqrt\n",
    "import matplotlib.pyplot as plt\n",
    "from utils import *\n",
    "\n",
    "pd.options.mode.use_inf_as_na = True"
   ]
  },
  {
   "cell_type": "code",
   "execution_count": 2,
   "metadata": {
    "ExecuteTime": {
     "end_time": "2023-06-14T12:40:45.609798900Z",
     "start_time": "2023-06-14T12:40:45.171731900Z"
    }
   },
   "outputs": [],
   "source": [
    "um= pd.read_csv('csv\\\\pseudo_random_utility_matrix.csv',index_col=0)"
   ]
  },
  {
   "cell_type": "code",
   "execution_count": 3,
   "metadata": {
    "ExecuteTime": {
     "end_time": "2023-06-14T12:40:45.641163Z",
     "start_time": "2023-06-14T12:40:45.626928300Z"
    }
   },
   "outputs": [],
   "source": [
    "def predict(utility_matrix, q_sim_neighbors, u_sim_neighbors, u_sim_weight, q_sim_weight):\n",
    "    utility_matrix_copy = utility_matrix.fillna(0)\n",
    "    output = utility_matrix_copy.copy()\n",
    "    \n",
    "    # Get the columns of the utility matrix\n",
    "    columns = utility_matrix.axes[1]\n",
    "    \n",
    "    # Create similarity matrices for users and querries using cosine similarity and standardizing the utility matrix\n",
    "    q_sim_matrix = query_similarity(utility_matrix_copy,q_sim_neighbors,standardize_matrix=True)\n",
    "    u_sim_matrix = user_similarity(utility_matrix_copy,u_sim_neighbors,standardize_matrix=True)\n",
    "    \n",
    "    \n",
    "    # Find all the locations in the utility matrix where there is a missing value\n",
    "    scores_to_predict = np.array(np.where(utility_matrix.fillna(0)== 0)).T\n",
    "    for i,j in scores_to_predict:\n",
    "        # Calculate the user similarity score and query similarity score\n",
    "        q_score = np.dot(utility_matrix_copy.iloc[i], q_sim_matrix[j])/np.dot(q_sim_matrix[j], utility_matrix.iloc[i].notna())\n",
    "        u_score = np.dot(utility_matrix_copy[columns[j]], u_sim_matrix[i])/np.dot(u_sim_matrix[i], utility_matrix[columns[j]].notna())\n",
    "        \n",
    "        # Make predictions by taking a weighted sum of the user similarity score and query similarity score\n",
    "        output.iloc[i,j] = round(u_sim_weight*u_score + q_sim_weight*q_score, 2)\n",
    "    return output\n"
   ]
  },
  {
   "cell_type": "code",
   "execution_count": 4,
   "metadata": {
    "ExecuteTime": {
     "end_time": "2023-06-14T12:40:45.703924600Z",
     "start_time": "2023-06-14T12:40:45.641163Z"
    }
   },
   "outputs": [
    {
     "name": "stdout",
     "output_type": "stream",
     "text": [
      "Masking 20 % of the data to test\n",
      "Mask done\n"
     ]
    }
   ],
   "source": [
    "import numpy as np\n",
    "print('Masking 20 % of the data to test')\n",
    "mask = np.ones((2000,2000))\n",
    "mask[1600:,1600:]=0\n",
    "data_to_test=np.array(um)\n",
    "data_to_test[np.logical_not(mask)] = None\n",
    "data_to_test_df=pd.DataFrame(data_to_test,columns= um.axes[1],index=um.axes[0])\n",
    "print('Mask done')"
   ]
  },
  {
   "cell_type": "code",
   "execution_count": 15,
   "outputs": [
    {
     "name": "stdout",
     "output_type": "stream",
     "text": [
      "u_sim_neighbors: 100\n"
     ]
    },
    {
     "name": "stderr",
     "output_type": "stream",
     "text": [
      "C:\\Users\\39345\\AppData\\Local\\Temp\\ipykernel_316\\1681435725.py:18: RuntimeWarning: invalid value encountered in scalar divide\n",
      "  u_score = np.dot(utility_matrix_copy[columns[j]], u_sim_matrix[i])/np.dot(u_sim_matrix[i], utility_matrix[columns[j]].notna())\n"
     ]
    },
    {
     "name": "stdout",
     "output_type": "stream",
     "text": [
      "RMSE: 41.15092546575502\n",
      "u_sim_neighbors: 200\n"
     ]
    },
    {
     "name": "stderr",
     "output_type": "stream",
     "text": [
      "C:\\Users\\39345\\AppData\\Local\\Temp\\ipykernel_316\\1681435725.py:18: RuntimeWarning: invalid value encountered in scalar divide\n",
      "  u_score = np.dot(utility_matrix_copy[columns[j]], u_sim_matrix[i])/np.dot(u_sim_matrix[i], utility_matrix[columns[j]].notna())\n"
     ]
    },
    {
     "name": "stdout",
     "output_type": "stream",
     "text": [
      "RMSE: 41.32261400405504\n",
      "u_sim_neighbors: 300\n"
     ]
    },
    {
     "name": "stderr",
     "output_type": "stream",
     "text": [
      "C:\\Users\\39345\\AppData\\Local\\Temp\\ipykernel_316\\1681435725.py:18: RuntimeWarning: invalid value encountered in scalar divide\n",
      "  u_score = np.dot(utility_matrix_copy[columns[j]], u_sim_matrix[i])/np.dot(u_sim_matrix[i], utility_matrix[columns[j]].notna())\n"
     ]
    },
    {
     "name": "stdout",
     "output_type": "stream",
     "text": [
      "RMSE: 41.38123389641735\n",
      "u_sim_neighbors: 400\n"
     ]
    },
    {
     "name": "stderr",
     "output_type": "stream",
     "text": [
      "C:\\Users\\39345\\AppData\\Local\\Temp\\ipykernel_316\\1681435725.py:18: RuntimeWarning: invalid value encountered in scalar divide\n",
      "  u_score = np.dot(utility_matrix_copy[columns[j]], u_sim_matrix[i])/np.dot(u_sim_matrix[i], utility_matrix[columns[j]].notna())\n"
     ]
    },
    {
     "name": "stdout",
     "output_type": "stream",
     "text": [
      "RMSE: 23.941973509038473\n",
      "u_sim_neighbors: 500\n",
      "RMSE: 8.073304249887402\n",
      "u_sim_neighbors: 600\n"
     ]
    },
    {
     "name": "stderr",
     "output_type": "stream",
     "text": [
      "C:\\Users\\39345\\AppData\\Local\\Temp\\ipykernel_316\\1681435725.py:18: RuntimeWarning: divide by zero encountered in scalar divide\n",
      "  u_score = np.dot(utility_matrix_copy[columns[j]], u_sim_matrix[i])/np.dot(u_sim_matrix[i], utility_matrix[columns[j]].notna())\n"
     ]
    },
    {
     "name": "stdout",
     "output_type": "stream",
     "text": [
      "RMSE: 981674839115055.6\n",
      "u_sim_neighbors: 700\n",
      "RMSE: 9.691538338029726\n",
      "u_sim_neighbors: 800\n",
      "RMSE: 9.557761371458799\n",
      "u_sim_neighbors: 900\n",
      "RMSE: 10.925972062933347\n",
      "u_sim_neighbors: 1000\n",
      "RMSE: 14.65868627367405\n"
     ]
    }
   ],
   "source": [
    "import numpy as np\n",
    "from sklearn.metrics import mean_squared_error\n",
    "\n",
    "x1 = np.arange(100, 1100, 100)\n",
    "y1 = []\n",
    "\n",
    "for i in x1:\n",
    "    print('u_sim_neighbors:', i)\n",
    "    pred = predict(data_to_test_df, q_sim_weight=0, q_sim_neighbors=500, u_sim_neighbors=i, u_sim_weight=1)\n",
    "    pred1 = pred[um.notna()]\n",
    "    y_pred = np.array(pred1.fillna(0))[np.logical_not(mask)]\n",
    "    y_truth = np.array(um.fillna(0))[np.logical_not(mask)]\n",
    "\n",
    "    # Handle potential infinite or large values\n",
    "    y_pred = np.nan_to_num(y_pred, nan=0, posinf=1e9, neginf=-1e9)\n",
    "    y_truth = np.nan_to_num(y_truth, nan=0, posinf=1e9, neginf=-1e9)\n",
    "\n",
    "    rmse = np.sqrt(mean_squared_error(y_pred=y_pred, y_true=y_truth))\n",
    "    y1.append(rmse)\n",
    "    print('RMSE:', rmse)\n"
   ],
   "metadata": {
    "collapsed": false,
    "ExecuteTime": {
     "end_time": "2023-06-12T18:52:28.093042200Z",
     "start_time": "2023-06-12T17:25:03.910094800Z"
    }
   }
  },
  {
   "cell_type": "code",
   "execution_count": 5,
   "outputs": [
    {
     "name": "stderr",
     "output_type": "stream",
     "text": [
      "C:\\Users\\39345\\AppData\\Local\\Temp\\ipykernel_2800\\1681435725.py:18: RuntimeWarning: divide by zero encountered in scalar divide\n",
      "  u_score = np.dot(utility_matrix_copy[columns[j]], u_sim_matrix[i])/np.dot(u_sim_matrix[i], utility_matrix[columns[j]].notna())\n"
     ]
    }
   ],
   "source": [
    "pred=predict(data_to_test_df,q_sim_weight=0,q_sim_neighbors=500, u_sim_neighbors=600,u_sim_weight=1)"
   ],
   "metadata": {
    "collapsed": false,
    "ExecuteTime": {
     "end_time": "2023-06-14T12:48:40.756369500Z",
     "start_time": "2023-06-14T12:40:45.703924600Z"
    }
   }
  },
  {
   "cell_type": "code",
   "execution_count": 19,
   "outputs": [],
   "source": [
    "pred[0]"
   ],
   "metadata": {
    "collapsed": false
   }
  },
  {
   "cell_type": "code",
   "execution_count": 6,
   "outputs": [
    {
     "name": "stdout",
     "output_type": "stream",
     "text": [
      "Q1       38.813290\n",
      "Q2       38.472395\n",
      "Q3       81.071130\n",
      "Q4       59.395775\n",
      "Q5       42.099880\n",
      "           ...    \n",
      "Q1996    78.489335\n",
      "Q1997    79.734700\n",
      "Q1998    58.221100\n",
      "Q1999    42.645265\n",
      "Q2000    58.728325\n",
      "Length: 2000, dtype: float64 Q1          1.00\n",
      "Q2          1.00\n",
      "Q3          1.00\n",
      "Q4          1.00\n",
      "Q5          1.00\n",
      "          ...   \n",
      "Q1996   -1036.77\n",
      "Q1997    -833.63\n",
      "Q1998    -593.57\n",
      "Q1999   -2116.00\n",
      "Q2000    -388.54\n",
      "Length: 2000, dtype: float64 Q1         96.00\n",
      "Q2         99.00\n",
      "Q3        100.00\n",
      "Q4        100.00\n",
      "Q5        100.00\n",
      "          ...   \n",
      "Q1996     343.60\n",
      "Q1997    1763.66\n",
      "Q1998     275.73\n",
      "Q1999     278.54\n",
      "Q2000    1152.28\n",
      "Length: 2000, dtype: float64\n"
     ]
    }
   ],
   "source": [
    "print(pred.mean(),pred.min(),pred.max())"
   ],
   "metadata": {
    "collapsed": false,
    "ExecuteTime": {
     "end_time": "2023-06-14T12:48:40.835091900Z",
     "start_time": "2023-06-14T12:48:40.762430400Z"
    }
   }
  },
  {
   "cell_type": "code",
   "execution_count": 8,
   "outputs": [
    {
     "name": "stdout",
     "output_type": "stream",
     "text": [
      "RMSE: 19.616469476070996\n"
     ]
    }
   ],
   "source": [
    "pred1=np.clip(pred,a_min=0,a_max=100)\n",
    "pred1=pred1[um.notna()]\n",
    "y_pred=np.array(pred1.fillna(0))[np.logical_not(mask)]\n",
    "y_truth=np.array(um.fillna(0))[np.logical_not(mask)]\n",
    "print('RMSE:',sqrt(mean_squared_error(y_pred=y_pred,y_true=y_truth)))"
   ],
   "metadata": {
    "collapsed": false,
    "ExecuteTime": {
     "end_time": "2023-06-14T12:49:24.668007400Z",
     "start_time": "2023-06-14T12:49:24.382371500Z"
    }
   }
  },
  {
   "cell_type": "code",
   "execution_count": 9,
   "metadata": {
    "ExecuteTime": {
     "end_time": "2023-06-14T14:10:16.807199500Z",
     "start_time": "2023-06-14T12:49:56.844280100Z"
    }
   },
   "outputs": [
    {
     "name": "stdout",
     "output_type": "stream",
     "text": [
      "u_sim_neighbors: 100\n"
     ]
    },
    {
     "name": "stderr",
     "output_type": "stream",
     "text": [
      "C:\\Users\\39345\\AppData\\Local\\Temp\\ipykernel_2800\\1681435725.py:18: RuntimeWarning: invalid value encountered in scalar divide\n",
      "  u_score = np.dot(utility_matrix_copy[columns[j]], u_sim_matrix[i])/np.dot(u_sim_matrix[i], utility_matrix[columns[j]].notna())\n"
     ]
    },
    {
     "name": "stdout",
     "output_type": "stream",
     "text": [
      "RMSE: 41.15092546575502\n",
      "u_sim_neighbors: 200\n"
     ]
    },
    {
     "name": "stderr",
     "output_type": "stream",
     "text": [
      "C:\\Users\\39345\\AppData\\Local\\Temp\\ipykernel_2800\\1681435725.py:18: RuntimeWarning: invalid value encountered in scalar divide\n",
      "  u_score = np.dot(utility_matrix_copy[columns[j]], u_sim_matrix[i])/np.dot(u_sim_matrix[i], utility_matrix[columns[j]].notna())\n"
     ]
    },
    {
     "name": "stdout",
     "output_type": "stream",
     "text": [
      "RMSE: 41.32261400405504\n",
      "u_sim_neighbors: 300\n"
     ]
    },
    {
     "name": "stderr",
     "output_type": "stream",
     "text": [
      "C:\\Users\\39345\\AppData\\Local\\Temp\\ipykernel_2800\\1681435725.py:18: RuntimeWarning: invalid value encountered in scalar divide\n",
      "  u_score = np.dot(utility_matrix_copy[columns[j]], u_sim_matrix[i])/np.dot(u_sim_matrix[i], utility_matrix[columns[j]].notna())\n"
     ]
    },
    {
     "name": "stdout",
     "output_type": "stream",
     "text": [
      "RMSE: 41.38123389641735\n",
      "u_sim_neighbors: 400\n"
     ]
    },
    {
     "name": "stderr",
     "output_type": "stream",
     "text": [
      "C:\\Users\\39345\\AppData\\Local\\Temp\\ipykernel_2800\\1681435725.py:18: RuntimeWarning: invalid value encountered in scalar divide\n",
      "  u_score = np.dot(utility_matrix_copy[columns[j]], u_sim_matrix[i])/np.dot(u_sim_matrix[i], utility_matrix[columns[j]].notna())\n"
     ]
    },
    {
     "name": "stdout",
     "output_type": "stream",
     "text": [
      "RMSE: 23.941973509038473\n",
      "u_sim_neighbors: 500\n",
      "RMSE: 8.073076960993559\n",
      "u_sim_neighbors: 600\n"
     ]
    },
    {
     "name": "stderr",
     "output_type": "stream",
     "text": [
      "C:\\Users\\39345\\AppData\\Local\\Temp\\ipykernel_2800\\1681435725.py:18: RuntimeWarning: divide by zero encountered in scalar divide\n",
      "  u_score = np.dot(utility_matrix_copy[columns[j]], u_sim_matrix[i])/np.dot(u_sim_matrix[i], utility_matrix[columns[j]].notna())\n"
     ]
    },
    {
     "name": "stdout",
     "output_type": "stream",
     "text": [
      "RMSE: 19.616469476070996\n",
      "u_sim_neighbors: 700\n",
      "RMSE: 9.535773228873472\n",
      "u_sim_neighbors: 800\n",
      "RMSE: 9.557375211551287\n",
      "u_sim_neighbors: 900\n",
      "RMSE: 10.72601011239734\n",
      "u_sim_neighbors: 1000\n",
      "RMSE: 12.34525533550238\n"
     ]
    }
   ],
   "source": [
    "#search for the best u_sim_neighbors\n",
    "x1=np.arange(100,1100,100)\n",
    "y1=[]\n",
    "for i in x1:\n",
    "    print('u_sim_neighbors:',i)\n",
    "    pred=predict(data_to_test_df,q_sim_weight=0,q_sim_neighbors=500, u_sim_neighbors=i,u_sim_weight=1)\n",
    "    pred1=np.clip(pred,a_min=0,a_max=100)\n",
    "    pred1=pred1[um.notna()]\n",
    "    y_pred=np.array(pred1.fillna(0))[np.logical_not(mask)]\n",
    "    y_truth=np.array(um.fillna(0))[np.logical_not(mask)]\n",
    "    y1.append(sqrt(mean_squared_error(y_pred=y_pred,y_true=y_truth)))\n",
    "    print('RMSE:',sqrt(mean_squared_error(y_pred=y_pred,y_true=y_truth)))"
   ]
  },
  {
   "cell_type": "code",
   "execution_count": 10,
   "outputs": [
    {
     "data": {
      "text/plain": "<Figure size 640x480 with 1 Axes>",
      "image/png": "[encoded data removed]"
     },
     "metadata": {},
     "output_type": "display_data"
    }
   ],
   "source": [
    "plt.plot(x1,y1)\n",
    "plt.ylabel('RMSE')\n",
    "plt.xlabel('u_sim_neighbors')\n",
    "plt.show()"
   ],
   "metadata": {
    "collapsed": false,
    "ExecuteTime": {
     "end_time": "2023-06-14T14:10:36.161910400Z",
     "start_time": "2023-06-14T14:10:35.893497700Z"
    }
   }
  },
  {
   "cell_type": "code",
   "execution_count": 11,
   "metadata": {
    "ExecuteTime": {
     "end_time": "2023-06-14T14:10:53.219761100Z",
     "start_time": "2023-06-14T14:10:53.008284100Z"
    }
   },
   "outputs": [
    {
     "name": "stdout",
     "output_type": "stream",
     "text": [
      "[41.15092546575502, 41.32261400405504, 41.38123389641735, 23.941973509038473, 8.073076960993559, 19.616469476070996, 9.535773228873472, 9.557375211551287, 10.72601011239734, 12.34525533550238]\n",
      "[41.15092546575502, 41.32261400405504, 41.38123389641735, 23.941973509038473, 8.073076960993559, 8.804425094933515, 9.535773228873472, 9.557375211551287, 10.72601011239734, 12.34525533550238]\n"
     ]
    },
    {
     "data": {
      "text/plain": "<Figure size 1000x900 with 2 Axes>",
      "image/png": "[encoded data removed]"
     },
     "metadata": {},
     "output_type": "display_data"
    }
   ],
   "source": [
    "\n",
    "print(y1)\n",
    "plt.figure(figsize = (10, 9))\n",
    "\n",
    "plt.subplot(211)\n",
    "plt.plot(x1,y1)\n",
    "plt.ylabel('RMSE')\n",
    "plt.xlabel('u_sim_neighbors')\n",
    "\n",
    "plt.subplot(212)\n",
    "temp_y1 = y1.copy()\n",
    "temp_y1[5] = (temp_y1[4] + temp_y1[6]) / 2\n",
    "print(temp_y1)\n",
    "plt.plot(x1, temp_y1)\n",
    "plt.ylabel('RMSE')\n",
    "plt.xlabel('u_sim_neighbors')\n",
    "\n",
    "plt.show()\n"
   ]
  },
  {
   "cell_type": "code",
   "execution_count": 12,
   "outputs": [
    {
     "data": {
      "text/plain": "['C:/Users/39345/PycharmProjects/Data_mining/filename.joblib']"
     },
     "execution_count": 12,
     "metadata": {},
     "output_type": "execute_result"
    }
   ],
   "source": [
    "from joblib import dump, load\n",
    "dump(y1, 'C:/Users/39345/PycharmProjects/Data_mining/filename.joblib')"
   ],
   "metadata": {
    "collapsed": false,
    "ExecuteTime": {
     "end_time": "2023-06-14T14:11:02.739302500Z",
     "start_time": "2023-06-14T14:11:02.692456600Z"
    }
   }
  },
  {
   "cell_type": "code",
   "execution_count": 13,
   "metadata": {
    "ExecuteTime": {
     "end_time": "2023-06-14T15:17:32.957055400Z",
     "start_time": "2023-06-14T14:11:05.690609600Z"
    }
   },
   "outputs": [
    {
     "name": "stdout",
     "output_type": "stream",
     "text": [
      "q_sim_neighbors: 100\n"
     ]
    },
    {
     "name": "stderr",
     "output_type": "stream",
     "text": [
      "C:\\Users\\39345\\AppData\\Local\\Temp\\ipykernel_2800\\1681435725.py:17: RuntimeWarning: invalid value encountered in scalar divide\n",
      "  q_score = np.dot(utility_matrix_copy.iloc[i], q_sim_matrix[j])/np.dot(q_sim_matrix[j], utility_matrix.iloc[i].notna())\n",
      "C:\\Users\\39345\\AppData\\Local\\Temp\\ipykernel_2800\\1681435725.py:18: RuntimeWarning: invalid value encountered in scalar divide\n",
      "  u_score = np.dot(utility_matrix_copy[columns[j]], u_sim_matrix[i])/np.dot(u_sim_matrix[i], utility_matrix[columns[j]].notna())\n"
     ]
    },
    {
     "name": "stdout",
     "output_type": "stream",
     "text": [
      "RMSE: 42.44634908630982\n",
      "q_sim_neighbors: 200\n"
     ]
    },
    {
     "name": "stderr",
     "output_type": "stream",
     "text": [
      "C:\\Users\\39345\\AppData\\Local\\Temp\\ipykernel_2800\\1681435725.py:17: RuntimeWarning: invalid value encountered in scalar divide\n",
      "  q_score = np.dot(utility_matrix_copy.iloc[i], q_sim_matrix[j])/np.dot(q_sim_matrix[j], utility_matrix.iloc[i].notna())\n",
      "C:\\Users\\39345\\AppData\\Local\\Temp\\ipykernel_2800\\1681435725.py:18: RuntimeWarning: invalid value encountered in scalar divide\n",
      "  u_score = np.dot(utility_matrix_copy[columns[j]], u_sim_matrix[i])/np.dot(u_sim_matrix[i], utility_matrix[columns[j]].notna())\n"
     ]
    },
    {
     "name": "stdout",
     "output_type": "stream",
     "text": [
      "RMSE: 42.0321681984614\n",
      "q_sim_neighbors: 300\n"
     ]
    },
    {
     "name": "stderr",
     "output_type": "stream",
     "text": [
      "C:\\Users\\39345\\AppData\\Local\\Temp\\ipykernel_2800\\1681435725.py:17: RuntimeWarning: invalid value encountered in scalar divide\n",
      "  q_score = np.dot(utility_matrix_copy.iloc[i], q_sim_matrix[j])/np.dot(q_sim_matrix[j], utility_matrix.iloc[i].notna())\n",
      "C:\\Users\\39345\\AppData\\Local\\Temp\\ipykernel_2800\\1681435725.py:18: RuntimeWarning: invalid value encountered in scalar divide\n",
      "  u_score = np.dot(utility_matrix_copy[columns[j]], u_sim_matrix[i])/np.dot(u_sim_matrix[i], utility_matrix[columns[j]].notna())\n"
     ]
    },
    {
     "name": "stdout",
     "output_type": "stream",
     "text": [
      "RMSE: 41.39988557591373\n",
      "q_sim_neighbors: 400\n"
     ]
    },
    {
     "name": "stderr",
     "output_type": "stream",
     "text": [
      "C:\\Users\\39345\\AppData\\Local\\Temp\\ipykernel_2800\\1681435725.py:17: RuntimeWarning: invalid value encountered in scalar divide\n",
      "  q_score = np.dot(utility_matrix_copy.iloc[i], q_sim_matrix[j])/np.dot(q_sim_matrix[j], utility_matrix.iloc[i].notna())\n",
      "C:\\Users\\39345\\AppData\\Local\\Temp\\ipykernel_2800\\1681435725.py:18: RuntimeWarning: invalid value encountered in scalar divide\n",
      "  u_score = np.dot(utility_matrix_copy[columns[j]], u_sim_matrix[i])/np.dot(u_sim_matrix[i], utility_matrix[columns[j]].notna())\n"
     ]
    },
    {
     "name": "stdout",
     "output_type": "stream",
     "text": [
      "RMSE: 41.36792679774695\n",
      "q_sim_neighbors: 500\n"
     ]
    },
    {
     "name": "stderr",
     "output_type": "stream",
     "text": [
      "C:\\Users\\39345\\AppData\\Local\\Temp\\ipykernel_2800\\1681435725.py:18: RuntimeWarning: invalid value encountered in scalar divide\n",
      "  u_score = np.dot(utility_matrix_copy[columns[j]], u_sim_matrix[i])/np.dot(u_sim_matrix[i], utility_matrix[columns[j]].notna())\n"
     ]
    },
    {
     "name": "stdout",
     "output_type": "stream",
     "text": [
      "RMSE: 41.39344266771762\n",
      "q_sim_neighbors: 600\n"
     ]
    },
    {
     "name": "stderr",
     "output_type": "stream",
     "text": [
      "C:\\Users\\39345\\AppData\\Local\\Temp\\ipykernel_2800\\1681435725.py:18: RuntimeWarning: invalid value encountered in scalar divide\n",
      "  u_score = np.dot(utility_matrix_copy[columns[j]], u_sim_matrix[i])/np.dot(u_sim_matrix[i], utility_matrix[columns[j]].notna())\n"
     ]
    },
    {
     "name": "stdout",
     "output_type": "stream",
     "text": [
      "RMSE: 41.434809078825865\n",
      "q_sim_neighbors: 700\n"
     ]
    },
    {
     "name": "stderr",
     "output_type": "stream",
     "text": [
      "C:\\Users\\39345\\AppData\\Local\\Temp\\ipykernel_2800\\1681435725.py:18: RuntimeWarning: invalid value encountered in scalar divide\n",
      "  u_score = np.dot(utility_matrix_copy[columns[j]], u_sim_matrix[i])/np.dot(u_sim_matrix[i], utility_matrix[columns[j]].notna())\n"
     ]
    },
    {
     "name": "stdout",
     "output_type": "stream",
     "text": [
      "RMSE: 41.47259191820997\n",
      "q_sim_neighbors: 800\n"
     ]
    },
    {
     "name": "stderr",
     "output_type": "stream",
     "text": [
      "C:\\Users\\39345\\AppData\\Local\\Temp\\ipykernel_2800\\1681435725.py:18: RuntimeWarning: invalid value encountered in scalar divide\n",
      "  u_score = np.dot(utility_matrix_copy[columns[j]], u_sim_matrix[i])/np.dot(u_sim_matrix[i], utility_matrix[columns[j]].notna())\n"
     ]
    },
    {
     "name": "stdout",
     "output_type": "stream",
     "text": [
      "RMSE: 41.47248446434847\n",
      "q_sim_neighbors: 900\n"
     ]
    },
    {
     "name": "stderr",
     "output_type": "stream",
     "text": [
      "C:\\Users\\39345\\AppData\\Local\\Temp\\ipykernel_2800\\1681435725.py:18: RuntimeWarning: invalid value encountered in scalar divide\n",
      "  u_score = np.dot(utility_matrix_copy[columns[j]], u_sim_matrix[i])/np.dot(u_sim_matrix[i], utility_matrix[columns[j]].notna())\n"
     ]
    },
    {
     "name": "stdout",
     "output_type": "stream",
     "text": [
      "RMSE: 41.474322800416225\n",
      "q_sim_neighbors: 1000\n"
     ]
    },
    {
     "name": "stderr",
     "output_type": "stream",
     "text": [
      "C:\\Users\\39345\\AppData\\Local\\Temp\\ipykernel_2800\\1681435725.py:18: RuntimeWarning: invalid value encountered in scalar divide\n",
      "  u_score = np.dot(utility_matrix_copy[columns[j]], u_sim_matrix[i])/np.dot(u_sim_matrix[i], utility_matrix[columns[j]].notna())\n"
     ]
    },
    {
     "name": "stdout",
     "output_type": "stream",
     "text": [
      "RMSE: 41.48124126145003\n"
     ]
    }
   ],
   "source": [
    "#search for the best q_sim_neighbors\n",
    "x2=np.arange(100,1100,100)\n",
    "y2=[]\n",
    "for i in x2:\n",
    "    print('q_sim_neighbors:',i)\n",
    "    pred=predict(data_to_test_df,q_sim_weight=1,q_sim_neighbors=i, u_sim_neighbors=200,u_sim_weight=0)\n",
    "    pred1=pred[um.notna()]\n",
    "    y_pred=np.array(pred1.fillna(0))[np.logical_not(mask)]\n",
    "    y_truth=np.array(um.fillna(0))[np.logical_not(mask)]\n",
    "    y2.append(sqrt(mean_squared_error(y_pred=y_pred,y_true=y_truth)))\n",
    "    print('RMSE:',sqrt(mean_squared_error(y_pred=y_pred,y_true=y_truth)))"
   ]
  },
  {
   "cell_type": "code",
   "execution_count": 14,
   "metadata": {
    "ExecuteTime": {
     "end_time": "2023-06-14T15:18:19.430218600Z",
     "start_time": "2023-06-14T15:18:19.196664400Z"
    }
   },
   "outputs": [
    {
     "data": {
      "text/plain": "<Figure size 640x480 with 1 Axes>",
      "image/png": "[encoded data removed]"
     },
     "metadata": {},
     "output_type": "display_data"
    }
   ],
   "source": [
    "plt.plot(x2,y2)\n",
    "plt.ylabel('RMSE')\n",
    "plt.xlabel('q_sim_neighbors')\n",
    "plt.show()"
   ]
  },
  {
   "cell_type": "code",
   "execution_count": 15,
   "metadata": {
    "ExecuteTime": {
     "end_time": "2023-06-14T15:18:30.299474600Z",
     "start_time": "2023-06-14T15:18:30.185702900Z"
    }
   },
   "outputs": [
    {
     "data": {
      "text/plain": "Text(0.5, 0, 'KNN')"
     },
     "execution_count": 15,
     "metadata": {},
     "output_type": "execute_result"
    },
    {
     "data": {
      "text/plain": "<Figure size 640x480 with 1 Axes>",
      "image/png": "[encoded data removed]"
     },
     "metadata": {},
     "output_type": "display_data"
    }
   ],
   "source": [
    "plt.plot(x1, y1, label = \"u_sim_neighbors\")\n",
    "plt.plot(x2, y2, label = \"q_sim_neighbors\")\n",
    "plt.ylabel('RMSE')\n",
    "plt.xlabel('KNN')\n"
   ]
  },
  {
   "cell_type": "code",
   "execution_count": 16,
   "outputs": [
    {
     "name": "stdout",
     "output_type": "stream",
     "text": [
      "q_sim_weight: 0.0\n"
     ]
    },
    {
     "name": "stderr",
     "output_type": "stream",
     "text": [
      "C:\\Users\\39345\\AppData\\Local\\Temp\\ipykernel_2800\\1681435725.py:18: RuntimeWarning: divide by zero encountered in scalar divide\n",
      "  u_score = np.dot(utility_matrix_copy[columns[j]], u_sim_matrix[i])/np.dot(u_sim_matrix[i], utility_matrix[columns[j]].notna())\n"
     ]
    },
    {
     "name": "stdout",
     "output_type": "stream",
     "text": [
      "RMSE: 981674839115055.6\n",
      "q_sim_weight: 0.1\n"
     ]
    },
    {
     "name": "stderr",
     "output_type": "stream",
     "text": [
      "C:\\Users\\39345\\AppData\\Local\\Temp\\ipykernel_2800\\1681435725.py:18: RuntimeWarning: divide by zero encountered in scalar divide\n",
      "  u_score = np.dot(utility_matrix_copy[columns[j]], u_sim_matrix[i])/np.dot(u_sim_matrix[i], utility_matrix[columns[j]].notna())\n"
     ]
    },
    {
     "name": "stdout",
     "output_type": "stream",
     "text": [
      "RMSE: 883507355203550.0\n",
      "q_sim_weight: 0.2\n"
     ]
    },
    {
     "name": "stderr",
     "output_type": "stream",
     "text": [
      "C:\\Users\\39345\\AppData\\Local\\Temp\\ipykernel_2800\\1681435725.py:18: RuntimeWarning: divide by zero encountered in scalar divide\n",
      "  u_score = np.dot(utility_matrix_copy[columns[j]], u_sim_matrix[i])/np.dot(u_sim_matrix[i], utility_matrix[columns[j]].notna())\n"
     ]
    },
    {
     "name": "stdout",
     "output_type": "stream",
     "text": [
      "RMSE: 785339871292044.5\n",
      "q_sim_weight: 0.30000000000000004\n"
     ]
    },
    {
     "name": "stderr",
     "output_type": "stream",
     "text": [
      "C:\\Users\\39345\\AppData\\Local\\Temp\\ipykernel_2800\\1681435725.py:18: RuntimeWarning: divide by zero encountered in scalar divide\n",
      "  u_score = np.dot(utility_matrix_copy[columns[j]], u_sim_matrix[i])/np.dot(u_sim_matrix[i], utility_matrix[columns[j]].notna())\n"
     ]
    },
    {
     "name": "stdout",
     "output_type": "stream",
     "text": [
      "RMSE: 687172387380538.9\n",
      "q_sim_weight: 0.4\n"
     ]
    },
    {
     "name": "stderr",
     "output_type": "stream",
     "text": [
      "C:\\Users\\39345\\AppData\\Local\\Temp\\ipykernel_2800\\1681435725.py:18: RuntimeWarning: divide by zero encountered in scalar divide\n",
      "  u_score = np.dot(utility_matrix_copy[columns[j]], u_sim_matrix[i])/np.dot(u_sim_matrix[i], utility_matrix[columns[j]].notna())\n"
     ]
    },
    {
     "name": "stdout",
     "output_type": "stream",
     "text": [
      "RMSE: 589004903469033.4\n",
      "q_sim_weight: 0.5\n"
     ]
    },
    {
     "name": "stderr",
     "output_type": "stream",
     "text": [
      "C:\\Users\\39345\\AppData\\Local\\Temp\\ipykernel_2800\\1681435725.py:18: RuntimeWarning: divide by zero encountered in scalar divide\n",
      "  u_score = np.dot(utility_matrix_copy[columns[j]], u_sim_matrix[i])/np.dot(u_sim_matrix[i], utility_matrix[columns[j]].notna())\n"
     ]
    },
    {
     "name": "stdout",
     "output_type": "stream",
     "text": [
      "RMSE: 490837419557527.8\n",
      "q_sim_weight: 0.6000000000000001\n"
     ]
    },
    {
     "name": "stderr",
     "output_type": "stream",
     "text": [
      "C:\\Users\\39345\\AppData\\Local\\Temp\\ipykernel_2800\\1681435725.py:18: RuntimeWarning: divide by zero encountered in scalar divide\n",
      "  u_score = np.dot(utility_matrix_copy[columns[j]], u_sim_matrix[i])/np.dot(u_sim_matrix[i], utility_matrix[columns[j]].notna())\n"
     ]
    },
    {
     "name": "stdout",
     "output_type": "stream",
     "text": [
      "RMSE: 392669935646022.1\n",
      "q_sim_weight: 0.7000000000000001\n"
     ]
    },
    {
     "name": "stderr",
     "output_type": "stream",
     "text": [
      "C:\\Users\\39345\\AppData\\Local\\Temp\\ipykernel_2800\\1681435725.py:18: RuntimeWarning: divide by zero encountered in scalar divide\n",
      "  u_score = np.dot(utility_matrix_copy[columns[j]], u_sim_matrix[i])/np.dot(u_sim_matrix[i], utility_matrix[columns[j]].notna())\n"
     ]
    },
    {
     "name": "stdout",
     "output_type": "stream",
     "text": [
      "RMSE: 294502451734516.6\n",
      "q_sim_weight: 0.8\n"
     ]
    },
    {
     "name": "stderr",
     "output_type": "stream",
     "text": [
      "C:\\Users\\39345\\AppData\\Local\\Temp\\ipykernel_2800\\1681435725.py:18: RuntimeWarning: divide by zero encountered in scalar divide\n",
      "  u_score = np.dot(utility_matrix_copy[columns[j]], u_sim_matrix[i])/np.dot(u_sim_matrix[i], utility_matrix[columns[j]].notna())\n"
     ]
    },
    {
     "name": "stdout",
     "output_type": "stream",
     "text": [
      "RMSE: 196334967823011.12\n",
      "q_sim_weight: 0.9\n"
     ]
    },
    {
     "name": "stderr",
     "output_type": "stream",
     "text": [
      "C:\\Users\\39345\\AppData\\Local\\Temp\\ipykernel_2800\\1681435725.py:18: RuntimeWarning: divide by zero encountered in scalar divide\n",
      "  u_score = np.dot(utility_matrix_copy[columns[j]], u_sim_matrix[i])/np.dot(u_sim_matrix[i], utility_matrix[columns[j]].notna())\n"
     ]
    },
    {
     "name": "stdout",
     "output_type": "stream",
     "text": [
      "RMSE: 98167483911505.58\n",
      "q_sim_weight: 1.0\n"
     ]
    },
    {
     "name": "stderr",
     "output_type": "stream",
     "text": [
      "C:\\Users\\39345\\AppData\\Local\\Temp\\ipykernel_2800\\1681435725.py:18: RuntimeWarning: divide by zero encountered in scalar divide\n",
      "  u_score = np.dot(utility_matrix_copy[columns[j]], u_sim_matrix[i])/np.dot(u_sim_matrix[i], utility_matrix[columns[j]].notna())\n",
      "C:\\Users\\39345\\AppData\\Local\\Temp\\ipykernel_2800\\1681435725.py:21: RuntimeWarning: invalid value encountered in scalar multiply\n",
      "  output.iloc[i,j] = round(u_sim_weight*u_score + q_sim_weight*q_score, 2)\n"
     ]
    },
    {
     "name": "stdout",
     "output_type": "stream",
     "text": [
      "RMSE: 13.442533637697359\n"
     ]
    },
    {
     "data": {
      "text/plain": "<Figure size 640x480 with 1 Axes>",
      "image/png": "[encoded data removed]"
     },
     "metadata": {},
     "output_type": "display_data"
    }
   ],
   "source": [
    "import numpy as np\n",
    "import matplotlib.pyplot as plt\n",
    "from sklearn.metrics import mean_squared_error\n",
    "\n",
    "# Existing code\n",
    "x = np.arange(0, 1.1, 0.1)\n",
    "y = []\n",
    "\n",
    "for i in x:\n",
    "    print('q_sim_weight:', i)\n",
    "    try:\n",
    "        pred = predict(data_to_test_df, q_sim_weight=i, q_sim_neighbors=600, u_sim_neighbors=600, u_sim_weight=1-i)\n",
    "        pred1 = pred[um.notna()]\n",
    "        y_pred = np.array(pred1.fillna(0))[np.logical_not(mask)]\n",
    "        y_truth = np.array(um.fillna(0))[np.logical_not(mask)]\n",
    "        y.append(np.sqrt(mean_squared_error(y_pred=y_pred, y_true=y_truth)))\n",
    "        print('RMSE:', np.sqrt(mean_squared_error(y_pred=y_pred, y_true=y_truth)))\n",
    "    except (ValueError, ZeroDivisionError) as e:\n",
    "        print(f\"An error occurred: {e}\")\n",
    "        y.append(np.inf)\n",
    "\n",
    "# Plotting the results\n",
    "plt.plot(x, y, marker='o')\n",
    "plt.xlabel('q_sim_weight')\n",
    "plt.ylabel('RMSE')\n",
    "plt.title('RMSE vs. q_sim_weight')\n",
    "plt.grid(True)\n",
    "plt.show()\n"
   ],
   "metadata": {
    "collapsed": false,
    "ExecuteTime": {
     "end_time": "2023-06-14T16:53:39.288772400Z",
     "start_time": "2023-06-14T15:18:56.791414Z"
    }
   }
  },
  {
   "cell_type": "code",
   "execution_count": 17,
   "metadata": {
    "ExecuteTime": {
     "end_time": "2023-06-14T17:03:47.411794100Z",
     "start_time": "2023-06-14T16:54:14.735050400Z"
    }
   },
   "outputs": [
    {
     "name": "stderr",
     "output_type": "stream",
     "text": [
      "C:\\Users\\39345\\AppData\\Local\\Temp\\ipykernel_2800\\1681435725.py:18: RuntimeWarning: invalid value encountered in scalar divide\n",
      "  u_score = np.dot(utility_matrix_copy[columns[j]], u_sim_matrix[i])/np.dot(u_sim_matrix[i], utility_matrix[columns[j]].notna())\n"
     ]
    }
   ],
   "source": [
    "#fill the matrix with the best hyperparmeters\n",
    "pred=predict(data_to_test_df,q_sim_weight=0,q_sim_neighbors=500, u_sim_neighbors=400,u_sim_weight=1)\n",
    "pred.to_csv('./csv/predicted_utility_matrix.csv')"
   ]
  },
  {
   "cell_type": "code",
   "execution_count": 18,
   "metadata": {
    "ExecuteTime": {
     "end_time": "2023-06-14T17:03:47.474563600Z",
     "start_time": "2023-06-14T17:03:47.411794100Z"
    }
   },
   "outputs": [
    {
     "data": {
      "text/plain": "39059"
     },
     "execution_count": 18,
     "metadata": {},
     "output_type": "execute_result"
    }
   ],
   "source": [
    "pred.isna().sum().sum()"
   ]
  },
  {
   "cell_type": "code",
   "execution_count": 19,
   "metadata": {
    "ExecuteTime": {
     "end_time": "2023-06-14T17:03:47.493271100Z",
     "start_time": "2023-06-14T17:03:47.474563600Z"
    }
   },
   "outputs": [],
   "source": [
    "def top_k_queries(user_id, k: int, predictions):\n",
    "\n",
    "    user_predictions = predictions.loc[user_id]\n",
    "    user_predictions = user_predictions.sort_values(ascending=False)\n",
    "    return(user_predictions[:k].index.to_list())"
   ]
  },
  {
   "cell_type": "code",
   "execution_count": 20,
   "metadata": {
    "ExecuteTime": {
     "end_time": "2023-06-14T17:03:48.161539700Z",
     "start_time": "2023-06-14T17:03:47.493271100Z"
    }
   },
   "outputs": [
    {
     "data": {
      "text/plain": "['Q560', 'Q205', 'Q355', 'Q291', 'Q1413']"
     },
     "execution_count": 20,
     "metadata": {},
     "output_type": "execute_result"
    }
   ],
   "source": [
    "pred=pd.read_csv('csv\\predicted_utility_matrix.csv',index_col=0)\n",
    "top_k_queries('U100',5,pred)"
   ]
  },
  {
   "cell_type": "code",
   "execution_count": 21,
   "metadata": {
    "ExecuteTime": {
     "end_time": "2023-06-14T17:07:43.778618600Z",
     "start_time": "2023-06-14T17:03:48.161539700Z"
    }
   },
   "outputs": [],
   "source": [
    "x3=range(100,1100,100)\n",
    "y3=[]\n",
    "for i in x3:\n",
    "    sim=0\n",
    "    for j in range(1601,2001):\n",
    "        sim+=jaccard_similarity(top_k_queries('U'+str(j),i,um.fillna(0)),top_k_queries('U'+str(j),i,pred1.fillna(0)))\n",
    "    y3.append(sim/400)"
   ]
  },
  {
   "cell_type": "code",
   "execution_count": 22,
   "metadata": {
    "ExecuteTime": {
     "end_time": "2023-06-14T17:07:44.030505700Z",
     "start_time": "2023-06-14T17:07:43.811076700Z"
    }
   },
   "outputs": [
    {
     "data": {
      "text/plain": "<Figure size 640x480 with 1 Axes>",
      "image/png": "[encoded data removed]"
     },
     "metadata": {},
     "output_type": "display_data"
    }
   ],
   "source": [
    "plt.plot(x3,y3,)\n",
    "plt.xlabel('top_k_query')\n",
    "plt.ylabel('Jaccard Similarity')\n",
    "plt.savefig('topk.png')"
   ]
  },
  {
   "cell_type": "code",
   "execution_count": null,
   "metadata": {},
   "outputs": [],
   "source": []
  }
 ],
 "metadata": {
  "kernelspec": {
   "display_name": "Python 3",
   "language": "python",
   "name": "python3"
  },
  "language_info": {
   "codemirror_mode": {
    "name": "ipython",
    "version": 3
   },
   "file_extension": ".py",
   "mimetype": "text/x-python",
   "name": "python",
   "nbconvert_exporter": "python",
   "pygments_lexer": "ipython3",
   "version": "3.9.7 (tags/v3.9.7:1016ef3, Aug 30 2021, 20:19:38) [MSC v.1929 64 bit (AMD64)]"
  },
  "orig_nbformat": 4,
  "vscode": {
   "interpreter": {
    "hash": "8f8cf99212f81ad0c4765861267244807ee1c18364846cdce387b28994a977ba"
   }
  }
 },
 "nbformat": 4,
 "nbformat_minor": 2
}
