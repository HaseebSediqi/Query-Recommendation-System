{
 "cells": [
  {
   "cell_type": "code",
   "execution_count": 11,
   "metadata": {
    "ExecuteTime": {
     "end_time": "2023-06-12T17:24:44.450083400Z",
     "start_time": "2023-06-12T17:24:44.352180900Z"
    }
   },
   "outputs": [],
   "source": [
    "import random\n",
    "import csv\n",
    "import time\n",
    "import pandas as pd\n",
    "import numpy as np\n",
    "from sklearn.metrics.pairwise import cosine_similarity\n",
    "from sklearn.metrics import mean_squared_error\n",
    "from math import sqrt\n",
    "import matplotlib.pyplot as plt\n",
    "from utils import *"
   ]
  },
  {
   "cell_type": "code",
   "execution_count": 12,
   "metadata": {
    "ExecuteTime": {
     "end_time": "2023-06-12T17:24:46.853951400Z",
     "start_time": "2023-06-12T17:24:45.954685500Z"
    }
   },
   "outputs": [],
   "source": [
    "um= pd.read_csv('csv\\\\random_utility_matrix.csv',index_col=0)"
   ]
  },
  {
   "cell_type": "code",
   "execution_count": 13,
   "metadata": {
    "ExecuteTime": {
     "end_time": "2023-06-12T17:24:48.406677600Z",
     "start_time": "2023-06-12T17:24:48.391055700Z"
    }
   },
   "outputs": [],
   "source": [
    "def predict(utility_matrix, q_sim_neighbors, u_sim_neighbors, u_sim_weight, q_sim_weight):\n",
    "    utility_matrix_copy = utility_matrix.fillna(0)\n",
    "    output = utility_matrix_copy.copy()\n",
    "    \n",
    "    # Get the columns of the utility matrix\n",
    "    columns = utility_matrix.axes[1]\n",
    "    \n",
    "    # Create similarity matrices for users and querries using cosine similarity and standardizing the utility matrix\n",
    "    q_sim_matrix = query_similarity(utility_matrix_copy,q_sim_neighbors,standardize_matrix=True)\n",
    "    u_sim_matrix = user_similarity(utility_matrix_copy,u_sim_neighbors,standardize_matrix=True)\n",
    "    \n",
    "    \n",
    "    # Find all the locations in the utility matrix where there is a missing value\n",
    "    scores_to_predict = np.array(np.where(utility_matrix.fillna(0)== 0)).T\n",
    "    for i,j in scores_to_predict:\n",
    "        # Calculate the user similarity score and query similarity score\n",
    "        q_score = np.dot(utility_matrix_copy.iloc[i], q_sim_matrix[j])/np.dot(q_sim_matrix[j], utility_matrix.iloc[i].notna())\n",
    "        u_score = np.dot(utility_matrix_copy[columns[j]], u_sim_matrix[i])/np.dot(u_sim_matrix[i], utility_matrix[columns[j]].notna())\n",
    "        \n",
    "        # Make predictions by taking a weighted sum of the user similarity score and query similarity score\n",
    "        output.iloc[i,j] = round(u_sim_weight*u_score + q_sim_weight*q_score, 2)\n",
    "    return output\n"
   ]
  },
  {
   "cell_type": "code",
   "execution_count": 14,
   "metadata": {
    "ExecuteTime": {
     "end_time": "2023-06-12T17:24:56.437038600Z",
     "start_time": "2023-06-12T17:24:53.133858300Z"
    }
   },
   "outputs": [
    {
     "name": "stdout",
     "output_type": "stream",
     "text": [
      "Masking 20 % of the data to test\n",
      "Mask done\n"
     ]
    }
   ],
   "source": [
    "import numpy as np\n",
    "print('Masking 20 % of the data to test')\n",
    "mask = np.ones((2000,2000))\n",
    "mask[1600:,1600:]=0\n",
    "data_to_test=np.array(um)\n",
    "data_to_test[np.logical_not(mask)] = None\n",
    "data_to_test_df=pd.DataFrame(data_to_test,columns= um.axes[1],index=um.axes[0])\n",
    "print('Mask done')"
   ]
  },
  {
   "cell_type": "code",
   "execution_count": 15,
   "outputs": [
    {
     "name": "stdout",
     "output_type": "stream",
     "text": [
      "u_sim_neighbors: 100\n"
     ]
    },
    {
     "name": "stderr",
     "output_type": "stream",
     "text": [
      "C:\\Users\\39345\\AppData\\Local\\Temp\\ipykernel_316\\1681435725.py:18: RuntimeWarning: invalid value encountered in scalar divide\n",
      "  u_score = np.dot(utility_matrix_copy[columns[j]], u_sim_matrix[i])/np.dot(u_sim_matrix[i], utility_matrix[columns[j]].notna())\n"
     ]
    },
    {
     "name": "stdout",
     "output_type": "stream",
     "text": [
      "RMSE: 41.15092546575502\n",
      "u_sim_neighbors: 200\n"
     ]
    },
    {
     "name": "stderr",
     "output_type": "stream",
     "text": [
      "C:\\Users\\39345\\AppData\\Local\\Temp\\ipykernel_316\\1681435725.py:18: RuntimeWarning: invalid value encountered in scalar divide\n",
      "  u_score = np.dot(utility_matrix_copy[columns[j]], u_sim_matrix[i])/np.dot(u_sim_matrix[i], utility_matrix[columns[j]].notna())\n"
     ]
    },
    {
     "name": "stdout",
     "output_type": "stream",
     "text": [
      "RMSE: 41.32261400405504\n",
      "u_sim_neighbors: 300\n"
     ]
    },
    {
     "name": "stderr",
     "output_type": "stream",
     "text": [
      "C:\\Users\\39345\\AppData\\Local\\Temp\\ipykernel_316\\1681435725.py:18: RuntimeWarning: invalid value encountered in scalar divide\n",
      "  u_score = np.dot(utility_matrix_copy[columns[j]], u_sim_matrix[i])/np.dot(u_sim_matrix[i], utility_matrix[columns[j]].notna())\n"
     ]
    },
    {
     "name": "stdout",
     "output_type": "stream",
     "text": [
      "RMSE: 41.38123389641735\n",
      "u_sim_neighbors: 400\n"
     ]
    },
    {
     "name": "stderr",
     "output_type": "stream",
     "text": [
      "C:\\Users\\39345\\AppData\\Local\\Temp\\ipykernel_316\\1681435725.py:18: RuntimeWarning: invalid value encountered in scalar divide\n",
      "  u_score = np.dot(utility_matrix_copy[columns[j]], u_sim_matrix[i])/np.dot(u_sim_matrix[i], utility_matrix[columns[j]].notna())\n"
     ]
    },
    {
     "name": "stdout",
     "output_type": "stream",
     "text": [
      "RMSE: 23.941973509038473\n",
      "u_sim_neighbors: 500\n",
      "RMSE: 8.073304249887402\n",
      "u_sim_neighbors: 600\n"
     ]
    },
    {
     "name": "stderr",
     "output_type": "stream",
     "text": [
      "C:\\Users\\39345\\AppData\\Local\\Temp\\ipykernel_316\\1681435725.py:18: RuntimeWarning: divide by zero encountered in scalar divide\n",
      "  u_score = np.dot(utility_matrix_copy[columns[j]], u_sim_matrix[i])/np.dot(u_sim_matrix[i], utility_matrix[columns[j]].notna())\n"
     ]
    },
    {
     "name": "stdout",
     "output_type": "stream",
     "text": [
      "RMSE: 981674839115055.6\n",
      "u_sim_neighbors: 700\n",
      "RMSE: 9.691538338029726\n",
      "u_sim_neighbors: 800\n",
      "RMSE: 9.557761371458799\n",
      "u_sim_neighbors: 900\n",
      "RMSE: 10.925972062933347\n",
      "u_sim_neighbors: 1000\n",
      "RMSE: 14.65868627367405\n"
     ]
    }
   ],
   "source": [
    "import numpy as np\n",
    "from sklearn.metrics import mean_squared_error\n",
    "\n",
    "x1 = np.arange(100, 1100, 100)\n",
    "y1 = []\n",
    "\n",
    "for i in x1:\n",
    "    print('u_sim_neighbors:', i)\n",
    "    pred = predict(data_to_test_df, q_sim_weight=0, q_sim_neighbors=500, u_sim_neighbors=i, u_sim_weight=1)\n",
    "    pred1 = pred[um.notna()]\n",
    "    y_pred = np.array(pred1.fillna(0))[np.logical_not(mask)]\n",
    "    y_truth = np.array(um.fillna(0))[np.logical_not(mask)]\n",
    "\n",
    "    # Handle potential infinite or large values\n",
    "    y_pred = np.nan_to_num(y_pred, nan=0, posinf=1e9, neginf=-1e9)\n",
    "    y_truth = np.nan_to_num(y_truth, nan=0, posinf=1e9, neginf=-1e9)\n",
    "\n",
    "    rmse = np.sqrt(mean_squared_error(y_pred=y_pred, y_true=y_truth))\n",
    "    y1.append(rmse)\n",
    "    print('RMSE:', rmse)\n"
   ],
   "metadata": {
    "collapsed": false,
    "ExecuteTime": {
     "end_time": "2023-06-12T18:52:28.093042200Z",
     "start_time": "2023-06-12T17:25:03.910094800Z"
    }
   }
  },
  {
   "cell_type": "code",
   "execution_count": null,
   "metadata": {},
   "outputs": [],
   "source": [
    "#search for the best u_sim_neighbors\n",
    "x1=np.arange(100,1100,100)\n",
    "y1=[]\n",
    "for i in x1:\n",
    "    print('u_sim_neighbors:',i)\n",
    "    pred=predict(data_to_test_df,q_sim_weight=0,q_sim_neighbors=500, u_sim_neighbors=i,u_sim_weight=1)\n",
    "    pred1=pred[um.notna()]\n",
    "    y_pred=np.array(pred1.fillna(0))[np.logical_not(mask)]\n",
    "    y_truth=np.array(um.fillna(0))[np.logical_not(mask)]\n",
    "    y1.append(sqrt(mean_squared_error(y_pred=y_pred,y_true=y_truth)))\n",
    "    print('RMSE:',sqrt(mean_squared_error(y_pred=y_pred,y_true=y_truth)))"
   ]
  },
  {
   "cell_type": "code",
   "execution_count": 16,
   "metadata": {
    "ExecuteTime": {
     "end_time": "2023-06-12T18:52:59.704334100Z",
     "start_time": "2023-06-12T18:52:58.713565600Z"
    }
   },
   "outputs": [
    {
     "data": {
      "text/plain": "<Figure size 640x480 with 1 Axes>",
      "image/png": "[encoded data removed]"
     },
     "metadata": {},
     "output_type": "display_data"
    }
   ],
   "source": [
    "plt.plot(x1,y1)\n",
    "plt.ylabel('RMSE')\n",
    "plt.xlabel('u_sim_neighbors')\n",
    "plt.show()\n"
   ]
  },
  {
   "cell_type": "code",
   "execution_count": 17,
   "outputs": [
    {
     "data": {
      "text/plain": "['C:/Users/39345/PycharmProjects/Data_mining/filename.joblib']"
     },
     "execution_count": 17,
     "metadata": {},
     "output_type": "execute_result"
    }
   ],
   "source": [
    "from joblib import dump, load\n",
    "dump(y1, 'C:/Users/39345/PycharmProjects/Data_mining/filename.joblib')"
   ],
   "metadata": {
    "collapsed": false,
    "ExecuteTime": {
     "end_time": "2023-06-12T18:53:05.034597300Z",
     "start_time": "2023-06-12T18:53:04.971948600Z"
    }
   }
  },
  {
   "cell_type": "code",
   "execution_count": 18,
   "metadata": {
    "ExecuteTime": {
     "end_time": "2023-06-12T20:15:03.031602100Z",
     "start_time": "2023-06-12T18:53:21.340746600Z"
    }
   },
   "outputs": [
    {
     "name": "stdout",
     "output_type": "stream",
     "text": [
      "q_sim_neighbors: 100\n"
     ]
    },
    {
     "name": "stderr",
     "output_type": "stream",
     "text": [
      "C:\\Users\\39345\\AppData\\Local\\Temp\\ipykernel_316\\1681435725.py:17: RuntimeWarning: invalid value encountered in scalar divide\n",
      "  q_score = np.dot(utility_matrix_copy.iloc[i], q_sim_matrix[j])/np.dot(q_sim_matrix[j], utility_matrix.iloc[i].notna())\n",
      "C:\\Users\\39345\\AppData\\Local\\Temp\\ipykernel_316\\1681435725.py:18: RuntimeWarning: invalid value encountered in scalar divide\n",
      "  u_score = np.dot(utility_matrix_copy[columns[j]], u_sim_matrix[i])/np.dot(u_sim_matrix[i], utility_matrix[columns[j]].notna())\n"
     ]
    },
    {
     "name": "stdout",
     "output_type": "stream",
     "text": [
      "RMSE: 42.44634908630982\n",
      "q_sim_neighbors: 200\n"
     ]
    },
    {
     "name": "stderr",
     "output_type": "stream",
     "text": [
      "C:\\Users\\39345\\AppData\\Local\\Temp\\ipykernel_316\\1681435725.py:17: RuntimeWarning: invalid value encountered in scalar divide\n",
      "  q_score = np.dot(utility_matrix_copy.iloc[i], q_sim_matrix[j])/np.dot(q_sim_matrix[j], utility_matrix.iloc[i].notna())\n",
      "C:\\Users\\39345\\AppData\\Local\\Temp\\ipykernel_316\\1681435725.py:18: RuntimeWarning: invalid value encountered in scalar divide\n",
      "  u_score = np.dot(utility_matrix_copy[columns[j]], u_sim_matrix[i])/np.dot(u_sim_matrix[i], utility_matrix[columns[j]].notna())\n"
     ]
    },
    {
     "name": "stdout",
     "output_type": "stream",
     "text": [
      "RMSE: 42.0321681984614\n",
      "q_sim_neighbors: 300\n"
     ]
    },
    {
     "name": "stderr",
     "output_type": "stream",
     "text": [
      "C:\\Users\\39345\\AppData\\Local\\Temp\\ipykernel_316\\1681435725.py:17: RuntimeWarning: invalid value encountered in scalar divide\n",
      "  q_score = np.dot(utility_matrix_copy.iloc[i], q_sim_matrix[j])/np.dot(q_sim_matrix[j], utility_matrix.iloc[i].notna())\n",
      "C:\\Users\\39345\\AppData\\Local\\Temp\\ipykernel_316\\1681435725.py:18: RuntimeWarning: invalid value encountered in scalar divide\n",
      "  u_score = np.dot(utility_matrix_copy[columns[j]], u_sim_matrix[i])/np.dot(u_sim_matrix[i], utility_matrix[columns[j]].notna())\n"
     ]
    },
    {
     "name": "stdout",
     "output_type": "stream",
     "text": [
      "RMSE: 41.39988557591373\n",
      "q_sim_neighbors: 400\n"
     ]
    },
    {
     "name": "stderr",
     "output_type": "stream",
     "text": [
      "C:\\Users\\39345\\AppData\\Local\\Temp\\ipykernel_316\\1681435725.py:17: RuntimeWarning: invalid value encountered in scalar divide\n",
      "  q_score = np.dot(utility_matrix_copy.iloc[i], q_sim_matrix[j])/np.dot(q_sim_matrix[j], utility_matrix.iloc[i].notna())\n",
      "C:\\Users\\39345\\AppData\\Local\\Temp\\ipykernel_316\\1681435725.py:18: RuntimeWarning: invalid value encountered in scalar divide\n",
      "  u_score = np.dot(utility_matrix_copy[columns[j]], u_sim_matrix[i])/np.dot(u_sim_matrix[i], utility_matrix[columns[j]].notna())\n"
     ]
    },
    {
     "name": "stdout",
     "output_type": "stream",
     "text": [
      "RMSE: 41.36792679774695\n",
      "q_sim_neighbors: 500\n"
     ]
    },
    {
     "name": "stderr",
     "output_type": "stream",
     "text": [
      "C:\\Users\\39345\\AppData\\Local\\Temp\\ipykernel_316\\1681435725.py:18: RuntimeWarning: invalid value encountered in scalar divide\n",
      "  u_score = np.dot(utility_matrix_copy[columns[j]], u_sim_matrix[i])/np.dot(u_sim_matrix[i], utility_matrix[columns[j]].notna())\n"
     ]
    },
    {
     "name": "stdout",
     "output_type": "stream",
     "text": [
      "RMSE: 41.39344266771762\n",
      "q_sim_neighbors: 600\n"
     ]
    },
    {
     "name": "stderr",
     "output_type": "stream",
     "text": [
      "C:\\Users\\39345\\AppData\\Local\\Temp\\ipykernel_316\\1681435725.py:18: RuntimeWarning: invalid value encountered in scalar divide\n",
      "  u_score = np.dot(utility_matrix_copy[columns[j]], u_sim_matrix[i])/np.dot(u_sim_matrix[i], utility_matrix[columns[j]].notna())\n"
     ]
    },
    {
     "name": "stdout",
     "output_type": "stream",
     "text": [
      "RMSE: 41.434809078825865\n",
      "q_sim_neighbors: 700\n"
     ]
    },
    {
     "name": "stderr",
     "output_type": "stream",
     "text": [
      "C:\\Users\\39345\\AppData\\Local\\Temp\\ipykernel_316\\1681435725.py:18: RuntimeWarning: invalid value encountered in scalar divide\n",
      "  u_score = np.dot(utility_matrix_copy[columns[j]], u_sim_matrix[i])/np.dot(u_sim_matrix[i], utility_matrix[columns[j]].notna())\n"
     ]
    },
    {
     "name": "stdout",
     "output_type": "stream",
     "text": [
      "RMSE: 41.47259191820997\n",
      "q_sim_neighbors: 800\n"
     ]
    },
    {
     "name": "stderr",
     "output_type": "stream",
     "text": [
      "C:\\Users\\39345\\AppData\\Local\\Temp\\ipykernel_316\\1681435725.py:18: RuntimeWarning: invalid value encountered in scalar divide\n",
      "  u_score = np.dot(utility_matrix_copy[columns[j]], u_sim_matrix[i])/np.dot(u_sim_matrix[i], utility_matrix[columns[j]].notna())\n"
     ]
    },
    {
     "name": "stdout",
     "output_type": "stream",
     "text": [
      "RMSE: 41.47248446434847\n",
      "q_sim_neighbors: 900\n"
     ]
    },
    {
     "name": "stderr",
     "output_type": "stream",
     "text": [
      "C:\\Users\\39345\\AppData\\Local\\Temp\\ipykernel_316\\1681435725.py:18: RuntimeWarning: invalid value encountered in scalar divide\n",
      "  u_score = np.dot(utility_matrix_copy[columns[j]], u_sim_matrix[i])/np.dot(u_sim_matrix[i], utility_matrix[columns[j]].notna())\n"
     ]
    },
    {
     "name": "stdout",
     "output_type": "stream",
     "text": [
      "RMSE: 41.474322800416225\n",
      "q_sim_neighbors: 1000\n"
     ]
    },
    {
     "name": "stderr",
     "output_type": "stream",
     "text": [
      "C:\\Users\\39345\\AppData\\Local\\Temp\\ipykernel_316\\1681435725.py:18: RuntimeWarning: invalid value encountered in scalar divide\n",
      "  u_score = np.dot(utility_matrix_copy[columns[j]], u_sim_matrix[i])/np.dot(u_sim_matrix[i], utility_matrix[columns[j]].notna())\n"
     ]
    },
    {
     "name": "stdout",
     "output_type": "stream",
     "text": [
      "RMSE: 41.48124126145003\n"
     ]
    }
   ],
   "source": [
    "#search for the best q_sim_neighbors\n",
    "x2=np.arange(100,1100,100)\n",
    "y2=[]\n",
    "for i in x2:\n",
    "    print('q_sim_neighbors:',i)\n",
    "    pred=predict(data_to_test_df,q_sim_weight=1,q_sim_neighbors=i, u_sim_neighbors=200,u_sim_weight=0)\n",
    "    pred1=pred[um.notna()]\n",
    "    y_pred=np.array(pred1.fillna(0))[np.logical_not(mask)]\n",
    "    y_truth=np.array(um.fillna(0))[np.logical_not(mask)]\n",
    "    y2.append(sqrt(mean_squared_error(y_pred=y_pred,y_true=y_truth)))\n",
    "    print('RMSE:',sqrt(mean_squared_error(y_pred=y_pred,y_true=y_truth)))"
   ]
  },
  {
   "cell_type": "code",
   "execution_count": 19,
   "metadata": {
    "ExecuteTime": {
     "end_time": "2023-06-12T20:15:35.020236800Z",
     "start_time": "2023-06-12T20:15:34.677030700Z"
    }
   },
   "outputs": [
    {
     "data": {
      "text/plain": "<Figure size 640x480 with 1 Axes>",
      "image/png": "[encoded data removed]"
     },
     "metadata": {},
     "output_type": "display_data"
    }
   ],
   "source": [
    "plt.plot(x2,y2)\n",
    "plt.ylabel('RMSE')\n",
    "plt.xlabel('q_sim_neighbors')\n",
    "plt.show()"
   ]
  },
  {
   "cell_type": "code",
   "execution_count": null,
   "metadata": {},
   "outputs": [],
   "source": [
    "plt.plot(x1, y1, label = \"u_sim_neighbors\")\n",
    "plt.plot(x2, y2, label = \"q_sim_neighbors\")\n",
    "plt.ylabel('RMSE')\n",
    "plt.xlabel('KNN')\n"
   ]
  },
  {
   "cell_type": "code",
   "execution_count": 22,
   "outputs": [
    {
     "name": "stdout",
     "output_type": "stream",
     "text": [
      "q_sim_weight: 0.0\n"
     ]
    },
    {
     "name": "stderr",
     "output_type": "stream",
     "text": [
      "C:\\Users\\39345\\AppData\\Local\\Temp\\ipykernel_316\\1681435725.py:18: RuntimeWarning: divide by zero encountered in scalar divide\n",
      "  u_score = np.dot(utility_matrix_copy[columns[j]], u_sim_matrix[i])/np.dot(u_sim_matrix[i], utility_matrix[columns[j]].notna())\n"
     ]
    },
    {
     "name": "stdout",
     "output_type": "stream",
     "text": [
      "An error occurred: Input contains infinity or a value too large for dtype('float64').\n",
      "q_sim_weight: 0.1\n"
     ]
    },
    {
     "name": "stderr",
     "output_type": "stream",
     "text": [
      "C:\\Users\\39345\\AppData\\Local\\Temp\\ipykernel_316\\1681435725.py:18: RuntimeWarning: divide by zero encountered in scalar divide\n",
      "  u_score = np.dot(utility_matrix_copy[columns[j]], u_sim_matrix[i])/np.dot(u_sim_matrix[i], utility_matrix[columns[j]].notna())\n"
     ]
    },
    {
     "name": "stdout",
     "output_type": "stream",
     "text": [
      "An error occurred: Input contains infinity or a value too large for dtype('float64').\n",
      "q_sim_weight: 0.2\n"
     ]
    },
    {
     "name": "stderr",
     "output_type": "stream",
     "text": [
      "C:\\Users\\39345\\AppData\\Local\\Temp\\ipykernel_316\\1681435725.py:18: RuntimeWarning: divide by zero encountered in scalar divide\n",
      "  u_score = np.dot(utility_matrix_copy[columns[j]], u_sim_matrix[i])/np.dot(u_sim_matrix[i], utility_matrix[columns[j]].notna())\n"
     ]
    },
    {
     "name": "stdout",
     "output_type": "stream",
     "text": [
      "An error occurred: Input contains infinity or a value too large for dtype('float64').\n",
      "q_sim_weight: 0.30000000000000004\n"
     ]
    },
    {
     "name": "stderr",
     "output_type": "stream",
     "text": [
      "C:\\Users\\39345\\AppData\\Local\\Temp\\ipykernel_316\\1681435725.py:18: RuntimeWarning: divide by zero encountered in scalar divide\n",
      "  u_score = np.dot(utility_matrix_copy[columns[j]], u_sim_matrix[i])/np.dot(u_sim_matrix[i], utility_matrix[columns[j]].notna())\n"
     ]
    },
    {
     "name": "stdout",
     "output_type": "stream",
     "text": [
      "An error occurred: Input contains infinity or a value too large for dtype('float64').\n",
      "q_sim_weight: 0.4\n"
     ]
    },
    {
     "name": "stderr",
     "output_type": "stream",
     "text": [
      "C:\\Users\\39345\\AppData\\Local\\Temp\\ipykernel_316\\1681435725.py:18: RuntimeWarning: divide by zero encountered in scalar divide\n",
      "  u_score = np.dot(utility_matrix_copy[columns[j]], u_sim_matrix[i])/np.dot(u_sim_matrix[i], utility_matrix[columns[j]].notna())\n"
     ]
    },
    {
     "name": "stdout",
     "output_type": "stream",
     "text": [
      "An error occurred: Input contains infinity or a value too large for dtype('float64').\n",
      "q_sim_weight: 0.5\n"
     ]
    },
    {
     "name": "stderr",
     "output_type": "stream",
     "text": [
      "C:\\Users\\39345\\AppData\\Local\\Temp\\ipykernel_316\\1681435725.py:18: RuntimeWarning: divide by zero encountered in scalar divide\n",
      "  u_score = np.dot(utility_matrix_copy[columns[j]], u_sim_matrix[i])/np.dot(u_sim_matrix[i], utility_matrix[columns[j]].notna())\n"
     ]
    },
    {
     "name": "stdout",
     "output_type": "stream",
     "text": [
      "An error occurred: Input contains infinity or a value too large for dtype('float64').\n",
      "q_sim_weight: 0.6000000000000001\n"
     ]
    },
    {
     "name": "stderr",
     "output_type": "stream",
     "text": [
      "C:\\Users\\39345\\AppData\\Local\\Temp\\ipykernel_316\\1681435725.py:18: RuntimeWarning: divide by zero encountered in scalar divide\n",
      "  u_score = np.dot(utility_matrix_copy[columns[j]], u_sim_matrix[i])/np.dot(u_sim_matrix[i], utility_matrix[columns[j]].notna())\n"
     ]
    },
    {
     "name": "stdout",
     "output_type": "stream",
     "text": [
      "An error occurred: Input contains infinity or a value too large for dtype('float64').\n",
      "q_sim_weight: 0.7000000000000001\n"
     ]
    },
    {
     "name": "stderr",
     "output_type": "stream",
     "text": [
      "C:\\Users\\39345\\AppData\\Local\\Temp\\ipykernel_316\\1681435725.py:18: RuntimeWarning: divide by zero encountered in scalar divide\n",
      "  u_score = np.dot(utility_matrix_copy[columns[j]], u_sim_matrix[i])/np.dot(u_sim_matrix[i], utility_matrix[columns[j]].notna())\n"
     ]
    },
    {
     "name": "stdout",
     "output_type": "stream",
     "text": [
      "An error occurred: Input contains infinity or a value too large for dtype('float64').\n",
      "q_sim_weight: 0.8\n"
     ]
    },
    {
     "name": "stderr",
     "output_type": "stream",
     "text": [
      "C:\\Users\\39345\\AppData\\Local\\Temp\\ipykernel_316\\1681435725.py:18: RuntimeWarning: divide by zero encountered in scalar divide\n",
      "  u_score = np.dot(utility_matrix_copy[columns[j]], u_sim_matrix[i])/np.dot(u_sim_matrix[i], utility_matrix[columns[j]].notna())\n"
     ]
    },
    {
     "name": "stdout",
     "output_type": "stream",
     "text": [
      "An error occurred: Input contains infinity or a value too large for dtype('float64').\n",
      "q_sim_weight: 0.9\n"
     ]
    },
    {
     "name": "stderr",
     "output_type": "stream",
     "text": [
      "C:\\Users\\39345\\AppData\\Local\\Temp\\ipykernel_316\\1681435725.py:18: RuntimeWarning: divide by zero encountered in scalar divide\n",
      "  u_score = np.dot(utility_matrix_copy[columns[j]], u_sim_matrix[i])/np.dot(u_sim_matrix[i], utility_matrix[columns[j]].notna())\n"
     ]
    },
    {
     "name": "stdout",
     "output_type": "stream",
     "text": [
      "An error occurred: Input contains infinity or a value too large for dtype('float64').\n",
      "q_sim_weight: 1.0\n"
     ]
    },
    {
     "name": "stderr",
     "output_type": "stream",
     "text": [
      "C:\\Users\\39345\\AppData\\Local\\Temp\\ipykernel_316\\1681435725.py:18: RuntimeWarning: divide by zero encountered in scalar divide\n",
      "  u_score = np.dot(utility_matrix_copy[columns[j]], u_sim_matrix[i])/np.dot(u_sim_matrix[i], utility_matrix[columns[j]].notna())\n",
      "C:\\Users\\39345\\AppData\\Local\\Temp\\ipykernel_316\\1681435725.py:21: RuntimeWarning: invalid value encountered in scalar multiply\n",
      "  output.iloc[i,j] = round(u_sim_weight*u_score + q_sim_weight*q_score, 2)\n"
     ]
    },
    {
     "name": "stdout",
     "output_type": "stream",
     "text": [
      "RMSE: 13.442533637697359\n"
     ]
    },
    {
     "data": {
      "text/plain": "<Figure size 640x480 with 1 Axes>",
      "image/png": "[encoded data removed]"
     },
     "metadata": {},
     "output_type": "display_data"
    }
   ],
   "source": [
    "import numpy as np\n",
    "import matplotlib.pyplot as plt\n",
    "from sklearn.metrics import mean_squared_error\n",
    "\n",
    "# Existing code\n",
    "x = np.arange(0, 1.1, 0.1)\n",
    "y = []\n",
    "\n",
    "for i in x:\n",
    "    print('q_sim_weight:', i)\n",
    "    try:\n",
    "        pred = predict(data_to_test_df, q_sim_weight=i, q_sim_neighbors=600, u_sim_neighbors=600, u_sim_weight=1-i)\n",
    "        pred1 = pred[um.notna()]\n",
    "        y_pred = np.array(pred1.fillna(0))[np.logical_not(mask)]\n",
    "        y_truth = np.array(um.fillna(0))[np.logical_not(mask)]\n",
    "        y.append(np.sqrt(mean_squared_error(y_pred=y_pred, y_true=y_truth)))\n",
    "        print('RMSE:', np.sqrt(mean_squared_error(y_pred=y_pred, y_true=y_truth)))\n",
    "    except (ValueError, ZeroDivisionError) as e:\n",
    "        print(f\"An error occurred: {e}\")\n",
    "        y.append(np.inf)\n",
    "\n",
    "# Plotting the results\n",
    "plt.plot(x, y, marker='o')\n",
    "plt.xlabel('q_sim_weight')\n",
    "plt.ylabel('RMSE')\n",
    "plt.title('RMSE vs. q_sim_weight')\n",
    "plt.grid(True)\n",
    "plt.show()\n"
   ],
   "metadata": {
    "collapsed": false,
    "ExecuteTime": {
     "end_time": "2023-06-12T22:24:19.485357600Z",
     "start_time": "2023-06-12T20:43:02.507791400Z"
    }
   }
  },
  {
   "cell_type": "code",
   "execution_count": 24,
   "metadata": {
    "ExecuteTime": {
     "end_time": "2023-06-12T22:31:48.684141600Z",
     "start_time": "2023-06-12T22:25:23.585329800Z"
    }
   },
   "outputs": [
    {
     "name": "stderr",
     "output_type": "stream",
     "text": [
      "C:\\Users\\39345\\AppData\\Local\\Temp\\ipykernel_316\\1681435725.py:18: RuntimeWarning: invalid value encountered in scalar divide\n",
      "  u_score = np.dot(utility_matrix_copy[columns[j]], u_sim_matrix[i])/np.dot(u_sim_matrix[i], utility_matrix[columns[j]].notna())\n"
     ]
    }
   ],
   "source": [
    "#fill the matrix with the best hyperparmeters\n",
    "pred=predict(data_to_test_df,q_sim_weight=0,q_sim_neighbors=500, u_sim_neighbors=400,u_sim_weight=1)\n",
    "pred.to_csv('./csv/predicted_utility_matrix.csv')"
   ]
  },
  {
   "cell_type": "code",
   "execution_count": 25,
   "metadata": {
    "ExecuteTime": {
     "end_time": "2023-06-12T22:33:49.532266Z",
     "start_time": "2023-06-12T22:33:49.485398400Z"
    }
   },
   "outputs": [
    {
     "data": {
      "text/plain": "39059"
     },
     "execution_count": 25,
     "metadata": {},
     "output_type": "execute_result"
    }
   ],
   "source": [
    "pred.isna().sum().sum()"
   ]
  },
  {
   "cell_type": "code",
   "execution_count": 26,
   "metadata": {
    "ExecuteTime": {
     "end_time": "2023-06-12T22:33:57.855264700Z",
     "start_time": "2023-06-12T22:33:57.819765200Z"
    }
   },
   "outputs": [],
   "source": [
    "def top_k_queries(user_id, k: int, predictions):\n",
    "\n",
    "    user_predictions = predictions.loc[user_id]\n",
    "    user_predictions = user_predictions.sort_values(ascending=False)\n",
    "    return(user_predictions[:k].index.to_list())"
   ]
  },
  {
   "cell_type": "code",
   "execution_count": 27,
   "metadata": {
    "ExecuteTime": {
     "end_time": "2023-06-12T22:34:00.633490900Z",
     "start_time": "2023-06-12T22:34:00.084489800Z"
    }
   },
   "outputs": [
    {
     "data": {
      "text/plain": "['Q560', 'Q205', 'Q355', 'Q291', 'Q1413']"
     },
     "execution_count": 27,
     "metadata": {},
     "output_type": "execute_result"
    }
   ],
   "source": [
    "pred=pd.read_csv('csv\\predicted_utility_matrix.csv',index_col=0)\n",
    "top_k_queries('U100',5,pred)"
   ]
  },
  {
   "cell_type": "code",
   "execution_count": 28,
   "metadata": {
    "ExecuteTime": {
     "end_time": "2023-06-12T22:36:32.949291Z",
     "start_time": "2023-06-12T22:34:04.515177Z"
    }
   },
   "outputs": [],
   "source": [
    "x3=range(100,1100,100)\n",
    "y3=[]\n",
    "for i in x3:\n",
    "    sim=0\n",
    "    for j in range(1601,2001):\n",
    "        sim+=jaccard_similarity(top_k_queries('U'+str(j),i,um.fillna(0)),top_k_queries('U'+str(j),i,pred1.fillna(0)))\n",
    "    y3.append(sim/400)"
   ]
  },
  {
   "cell_type": "code",
   "execution_count": 29,
   "metadata": {
    "ExecuteTime": {
     "end_time": "2023-06-12T22:36:38.423287700Z",
     "start_time": "2023-06-12T22:36:38.275253800Z"
    }
   },
   "outputs": [
    {
     "data": {
      "text/plain": "<Figure size 640x480 with 1 Axes>",
      "image/png": "[encoded data removed]"
     },
     "metadata": {},
     "output_type": "display_data"
    }
   ],
   "source": [
    "plt.plot(x3,y3,)\n",
    "plt.xlabel('top_k_query')\n",
    "plt.ylabel('Jaccard Similarity')\n",
    "plt.savefig('topk.png')"
   ]
  },
  {
   "cell_type": "code",
   "execution_count": null,
   "metadata": {},
   "outputs": [],
   "source": []
  }
 ],
 "metadata": {
  "kernelspec": {
   "display_name": "Python 3",
   "language": "python",
   "name": "python3"
  },
  "language_info": {
   "codemirror_mode": {
    "name": "ipython",
    "version": 3
   },
   "file_extension": ".py",
   "mimetype": "text/x-python",
   "name": "python",
   "nbconvert_exporter": "python",
   "pygments_lexer": "ipython3",
   "version": "3.9.7 (tags/v3.9.7:1016ef3, Aug 30 2021, 20:19:38) [MSC v.1929 64 bit (AMD64)]"
  },
  "orig_nbformat": 4,
  "vscode": {
   "interpreter": {
    "hash": "8f8cf99212f81ad0c4765861267244807ee1c18364846cdce387b28994a977ba"
   }
  }
 },
 "nbformat": 4,
 "nbformat_minor": 2
}
